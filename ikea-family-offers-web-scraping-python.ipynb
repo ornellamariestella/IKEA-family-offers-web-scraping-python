{
 "cells": [
  {
   "cell_type": "code",
   "execution_count": 16,
   "metadata": {},
   "outputs": [],
   "source": [
    "# importing the necessary libraries\n",
    "import pandas as pd\n",
    "from bs4 import BeautifulSoup\n",
    "from selenium import webdriver\n",
    "from selenium.webdriver.chrome.service import Service\n",
    "from selenium.webdriver.common.by import By\n",
    "import time"
   ]
  },
  {
   "cell_type": "code",
   "execution_count": 17,
   "metadata": {},
   "outputs": [],
   "source": [
    "driver = webdriver.Chrome()\n",
    "driver.get(\"https://www.ikea.com/se/en/offers/family-offers/\")\n",
    "\n",
    "# I want to make sure the webpage loads completely and scrolls to the bottom for any additional products \n",
    "time.sleep(5)\n",
    "last_height = driver.execute_script(\"return document.body.scrollHeight\")\n",
    "while True:\n",
    "    driver.execute_script(\"window.scrollTo(0, document.body.scrollHeight);\")\n",
    "    time.sleep(5)\n",
    "    new_height = driver.execute_script(\"return document.body.scrollHeight\")\n",
    "    if new_height == last_height:\n",
    "        break\n",
    "    last_height = new_height\n",
    "soup = BeautifulSoup(driver.page_source, \"html.parser\")\n",
    "driver.quit()"
   ]
  },
  {
   "cell_type": "code",
   "execution_count": 18,
   "metadata": {},
   "outputs": [
    {
     "data": {
      "text/plain": [
       "23"
      ]
     },
     "execution_count": 18,
     "metadata": {},
     "output_type": "execute_result"
    }
   ],
   "source": [
    "offers = soup.find_all(\"div\", class_=\"plp-fragment-wrapper\")\n",
    "len(offers)"
   ]
  },
  {
   "cell_type": "code",
   "execution_count": 19,
   "metadata": {},
   "outputs": [
    {
     "data": {
      "text/plain": [
       "bs4.element.ResultSet"
      ]
     },
     "execution_count": 19,
     "metadata": {},
     "output_type": "execute_result"
    }
   ],
   "source": [
    "type(offers)"
   ]
  },
  {
   "cell_type": "code",
   "execution_count": 20,
   "metadata": {},
   "outputs": [
    {
     "data": {
      "text/plain": [
       "<div class=\"plp-fragment-wrapper\"><div class=\"plp-mastercard\" data-cs-capture=\"\" data-currency=\"SEK\" data-price=\"995\" data-product-compact=\"\" data-product-name=\"GUNNÖN\" data-product-number=\"20468855\" data-ref-id=\"20468855\" data-testid=\"plp-product-card\"><div class=\"plp-mastercard__item plp-mastercard__compare\"></div><div class=\"plp-mastercard__item plp-mastercard__image\"><a aria-disabled=\"false\" aria-hidden=\"true\" class=\"plp-product__image-link link\" href=\"https://www.ikea.com/se/en/p/gunnoen-gazebo-dark-grey-grey-20468855/\"><img class=\"plp-image plp-product__image\" loading=\"lazy\" src=\"https://www.ikea.com/se/en/images/products/gunnoen-gazebo-dark-grey-grey__0961342_pe807499_s5.jpg?f=xxs\"/><img class=\"image plp-product__image plp-product__image--alt\" loading=\"lazy\" src=\"https://www.ikea.com/se/en/images/products/gunnoen-gazebo-dark-grey-grey__0961345_pe807502_s5.jpg?f=xxs\"/></a></div><div class=\"plp-mastercard__item plp-mastercard__price\"><a aria-disabled=\"false\" class=\"plp-price-link-wrapper link\" href=\"https://www.ikea.com/se/en/p/gunnoen-gazebo-dark-grey-grey-20468855/\"><div class=\"plp-price-module plp-price-module--small plp-price-module--with-commercial-message plp-price-module--family\"><div class=\"plp-price-module__information\"><div class=\"plp-commercial-message plp-commercial-message--subtle plp-commercial-message--subtle--family\"><span class=\"plp-commercial-message__title\">IKEA Family price</span></div><h3 class=\"plp-price-module__name\"><span class=\"plp-price-module__name-decorator\"><span class=\"notranslate plp-price-module__product-name\">GUNNÖN</span></span> <span class=\"plp-price-module__description\">Gazebo, 238x233 cm</span></h3></div><div class=\"plp-price-module__price\"><div class=\"plp-price-module__primary-currency-price\"><span class=\"plp-price plp-price--trailing plp-price--trailing plp-price--medium plp-price--currency-base-aligned plp-price--decimal-super-aligned plp-price-module__current-price notranslate\"><span aria-hidden=\"true\"><span class=\"plp-price__nowrap\"><span class=\"plp-price__integer\">995</span></span><span class=\"plp-price__currency\">:-</span></span><span class=\"plp-price__sr-text\">Price 995:-</span></span></div></div><div class=\"plp-price-module__addons\"><div class=\"plp-price-module__addon\"></div><div class=\"plp-price-module__addon\"><span class=\"plp-family-prev-price\">Previous lowest price <span class=\"plp-price plp-price--trailing plp-price--fixed-size plp-price--trailing plp-price--medium notranslate\"><span aria-hidden=\"true\"><span class=\"plp-price__nowrap\"><span class=\"plp-price__integer\">1 295</span></span><span class=\"plp-price__currency\">:-</span></span><span class=\"plp-price__sr-text\">Previous lowest price 1295:-</span></span></span></div><div class=\"plp-price-module__addon\"><p>Price valid 01 Jun - 30 Jun or while stocks last</p></div></div></div><span class=\"plp-rating plp-rating--small plp-product-rating notranslate\"><span aria-label=\"Review: 3.9 out of 5 stars. Total reviews: 454\" role=\"img\"><svg aria-hidden=\"true\" class=\"plp-svg-icon plp-rating__star plp-rating__star--filled\" focusable=\"false\" height=\"24\" viewbox=\"0 0 24 24\" width=\"24\"><path d=\"m11.9999 6 2.1245 3.6818 4.1255.9018-2.8125 3.1773L15.8626 18l-3.8627-1.7182L8.1372 18l.4252-4.2391-2.8125-3.1773 4.1255-.9018L11.9999 6z\"></path></svg><svg aria-hidden=\"true\" class=\"plp-svg-icon plp-rating__star plp-rating__star--filled\" focusable=\"false\" height=\"24\" viewbox=\"0 0 24 24\" width=\"24\"><path d=\"m11.9999 6 2.1245 3.6818 4.1255.9018-2.8125 3.1773L15.8626 18l-3.8627-1.7182L8.1372 18l.4252-4.2391-2.8125-3.1773 4.1255-.9018L11.9999 6z\"></path></svg><svg aria-hidden=\"true\" class=\"plp-svg-icon plp-rating__star plp-rating__star--filled\" focusable=\"false\" height=\"24\" viewbox=\"0 0 24 24\" width=\"24\"><path d=\"m11.9999 6 2.1245 3.6818 4.1255.9018-2.8125 3.1773L15.8626 18l-3.8627-1.7182L8.1372 18l.4252-4.2391-2.8125-3.1773 4.1255-.9018L11.9999 6z\"></path></svg><svg aria-hidden=\"true\" class=\"plp-svg-icon plp-rating__star plp-rating__star--filled\" focusable=\"false\" height=\"24\" viewbox=\"0 0 24 24\" width=\"24\"><path d=\"m11.9999 6 2.1245 3.6818 4.1255.9018-2.8125 3.1773L15.8626 18l-3.8627-1.7182L8.1372 18l.4252-4.2391-2.8125-3.1773 4.1255-.9018L11.9999 6z\"></path></svg><svg aria-hidden=\"true\" class=\"plp-svg-icon plp-rating__star plp-rating__star--empty\" focusable=\"false\" height=\"24\" viewbox=\"0 0 24 24\" width=\"24\"><path d=\"m11.9999 6 2.1245 3.6818 4.1255.9018-2.8125 3.1773L15.8626 18l-3.8627-1.7182L8.1372 18l.4252-4.2391-2.8125-3.1773 4.1255-.9018L11.9999 6z\"></path></svg></span><span class=\"plp-rating__label\">(454)</span></span></a></div><div class=\"plp-mastercard__item plp-mastercard__button-container\"><div class=\"plp-button-container\"><button aria-label='Add \"GUNNÖN Gazebo\" to cart' class=\"plp-btn plp-btn--small plp-btn--icon-emphasised\" type=\"button\"><span class=\"plp-btn__inner\"><svg aria-hidden=\"true\" class=\"plp-svg-icon plp-btn__icon\" focusable=\"false\" height=\"24\" viewbox=\"0 0 24 24\" width=\"24\"><path clip-rule=\"evenodd\" d=\"M11.9997 4C10.2948 4 9.019 5.122 8.5418 6.7127 8.2172 7.7946 7.97 8.9013 7.7083 10H1.5566l3.7501 10h9.6931v-2h-8.307l-2.2501-6h3.3251c.6634 2.1065 1.7665 4 4.2319 4 2.4653 0 3.5685-1.8935 4.2318-4h3.3252l-.375 1h2.136l1.125-3H16.291c-.2617-1.0987-.5089-2.2054-.8335-3.2873C14.9803 5.122 13.7045 4 11.9997 4zm2.2348 6c-.2293-.9532-.5299-2.1701-.6927-2.7127C13.3155 6.533 12.8255 6 11.9997 6s-1.3159.533-1.5422 1.2873C10.2947 7.83 9.9941 9.0468 9.7648 10h4.4697zm-4.361 2h4.2523c-.3635 1.0612-.8841 2-2.1261 2-1.2421 0-1.7627-.9388-2.1262-2z\" fill-rule=\"evenodd\"></path><path d=\"M19.9998 14h-2v2h-2v2h2v2h2v-2h2v-2h-2v-2z\"></path></svg></span></button><button aria-label='Save \"GUNNÖN Gazebo\" to shopping list' class=\"plp-btn plp-btn--small plp-btn--icon-tertiary btn--wishlist\" type=\"button\"><span class=\"plp-btn__inner\"><svg aria-hidden=\"true\" class=\"plp-svg-icon plp-btn__icon\" focusable=\"false\" height=\"24\" viewbox=\"0 0 24 24\" width=\"24\"><path clip-rule=\"evenodd\" d=\"M19.205 5.599c.9541.954 1.4145 2.2788 1.4191 3.6137 0 3.0657-2.2028 5.7259-4.1367 7.5015-1.2156 1.1161-2.5544 2.1393-3.9813 2.9729L12 20.001l-.501-.3088c-.9745-.5626-1.8878-1.2273-2.7655-1.9296-1.1393-.9117-2.4592-2.1279-3.5017-3.5531-1.0375-1.4183-1.8594-3.1249-1.8597-4.9957-.0025-1.2512.3936-2.5894 1.419-3.6149 1.8976-1.8975 4.974-1.8975 6.8716 0l.3347.3347.336-.3347c1.8728-1.8722 4.9989-1.8727 6.8716 0zm-7.2069 12.0516c.6695-.43 1.9102-1.2835 3.1366-2.4096 1.8786-1.7247 3.4884-3.8702 3.4894-6.0264-.0037-.849-.2644-1.6326-.8333-2.2015-1.1036-1.1035-2.9413-1.0999-4.0445.0014l-1.7517 1.7448-1.7461-1.7462c-1.1165-1.1164-2.9267-1.1164-4.0431 0-1.6837 1.6837-.5313 4.4136.6406 6.0156.8996 1.2298 2.0728 2.3207 3.137 3.1722a24.3826 24.3826 0 0 0 2.0151 1.4497z\" fill-rule=\"evenodd\"></path></svg></span></button></div></div><div class=\"plp-mastercard__item plp-mastercard__thumbnails\"></div></div></div>"
      ]
     },
     "execution_count": 20,
     "metadata": {},
     "output_type": "execute_result"
    }
   ],
   "source": [
    "offers[0]"
   ]
  },
  {
   "cell_type": "code",
   "execution_count": 21,
   "metadata": {},
   "outputs": [],
   "source": [
    "# as a demonstration, I will scrape a few relevant data related to the displayed products\n",
    "product_title = []\n",
    "product_currency = []\n",
    "product_price = []\n",
    "product_id = []\n",
    "product_link = []\n",
    "product_image = []\n",
    "\n",
    "for o in offers:\n",
    "    product_title.append(o.find(\"div\").attrs.get(\"data-product-name\"))\n",
    "    product_currency.append(o.find(\"div\").attrs.get(\"data-currency\"))\n",
    "    product_price.append(o.find(\"div\").attrs.get(\"data-price\"))\n",
    "    product_id.append(o.find(\"div\").attrs.get(\"data-ref-id\"))\n",
    "    product_link.append(o.find(\"a\").attrs.get(\"href\"))\n",
    "    images = o.find_all(\"img\", class_=\"plp-image plp-product__image\")\n",
    "    for img in images:\n",
    "        product_image.append(img[\"src\"])"
   ]
  },
  {
   "cell_type": "code",
   "execution_count": 22,
   "metadata": {},
   "outputs": [
    {
     "data": {
      "text/plain": [
       "22"
      ]
     },
     "execution_count": 22,
     "metadata": {},
     "output_type": "execute_result"
    }
   ],
   "source": [
    "# checking the length and content of each list\n",
    "# product_link[0:5]\n",
    "len(product_image)"
   ]
  },
  {
   "cell_type": "markdown",
   "metadata": {},
   "source": [
    "I realized we have the same product names for different articles, so I will add a new column named \"product description\" for more clarity."
   ]
  },
  {
   "cell_type": "code",
   "execution_count": 23,
   "metadata": {},
   "outputs": [
    {
     "data": {
      "text/plain": [
       "['Gazebo, 238x233 cm',\n",
       " 'Pergola, 300x300 cm',\n",
       " 'Gazebo, 300x300 cm',\n",
       " 'Gazebo with curtains and net',\n",
       " 'Cabinet in/outdoor, 90x161 cm']"
      ]
     },
     "execution_count": 23,
     "metadata": {},
     "output_type": "execute_result"
    }
   ],
   "source": [
    "product_descr = []\n",
    "\n",
    "for o in offers:\n",
    "    h3 = o.find(\"h3\", class_=\"plp-price-module__name\")\n",
    "    if h3:\n",
    "        description_span = h3.find(\"span\", class_=\"plp-price-module__description\")\n",
    "        if description_span:\n",
    "            product_descr.append(description_span.get_text())\n",
    "        else:\n",
    "            product_descr.append(\"None\")\n",
    "\n",
    "product_descr[0:5]"
   ]
  },
  {
   "cell_type": "markdown",
   "metadata": {},
   "source": [
    "I am satisfied with the scraping part.\n",
    "\n",
    "Now, I can see that some of the lists are made of 22 rows, others 23. \n",
    "Upon checking the webpage, I can see that we have 22 products and an additional banner in the middle. \n",
    "I will take this element out of the lists containing 1 row in eccess. Then, I will be able to create a dataframe. "
   ]
  },
  {
   "cell_type": "code",
   "execution_count": 24,
   "metadata": {},
   "outputs": [],
   "source": [
    "# \"None\" to be removed from:\n",
    "product_id = [item for item in product_id if item is not None]\n",
    "product_title = [item for item in product_title if item is not None]\n",
    "product_currency = [item for item in product_currency if item is not None]\n",
    "product_price = [item for item in product_price if item is not None]\n",
    "# non-product related link to be removed from: \n",
    "product_link = [item for item in product_link if item != \"https://www.ikea.com/se/en/profile/login?utm_source=family-offers&utm_medium=login-reminder&utm_campaign=login&from=https://www.ikea.com/se/en/offers/family-offers/\"]"
   ]
  },
  {
   "cell_type": "code",
   "execution_count": 25,
   "metadata": {},
   "outputs": [],
   "source": [
    "# now we can create a dataframe \n",
    "products = pd.DataFrame(\n",
    "    {\"product_id\": product_id,\n",
    "     \"product_title\": product_title,\n",
    "     \"product_description\": product_descr,\n",
    "     \"currency\": product_currency,\n",
    "     \"product_price\": product_price,\n",
    "     \"product_link\": product_link,\n",
    "     \"image_link\": product_image,\n",
    "    })"
   ]
  },
  {
   "cell_type": "code",
   "execution_count": 26,
   "metadata": {},
   "outputs": [
    {
     "data": {
      "text/html": [
       "<div>\n",
       "<style scoped>\n",
       "    .dataframe tbody tr th:only-of-type {\n",
       "        vertical-align: middle;\n",
       "    }\n",
       "\n",
       "    .dataframe tbody tr th {\n",
       "        vertical-align: top;\n",
       "    }\n",
       "\n",
       "    .dataframe thead th {\n",
       "        text-align: right;\n",
       "    }\n",
       "</style>\n",
       "<table border=\"1\" class=\"dataframe\">\n",
       "  <thead>\n",
       "    <tr style=\"text-align: right;\">\n",
       "      <th></th>\n",
       "      <th>product_id</th>\n",
       "      <th>product_title</th>\n",
       "      <th>product_description</th>\n",
       "      <th>currency</th>\n",
       "      <th>product_price</th>\n",
       "      <th>product_link</th>\n",
       "      <th>image_link</th>\n",
       "    </tr>\n",
       "  </thead>\n",
       "  <tbody>\n",
       "    <tr>\n",
       "      <th>0</th>\n",
       "      <td>20468855</td>\n",
       "      <td>GUNNÖN</td>\n",
       "      <td>Gazebo, 238x233 cm</td>\n",
       "      <td>SEK</td>\n",
       "      <td>995</td>\n",
       "      <td>https://www.ikea.com/se/en/p/gunnoen-gazebo-da...</td>\n",
       "      <td>https://www.ikea.com/se/en/images/products/gun...</td>\n",
       "    </tr>\n",
       "    <tr>\n",
       "      <th>1</th>\n",
       "      <td>20549239</td>\n",
       "      <td>HAMMARÖN</td>\n",
       "      <td>Pergola, 300x300 cm</td>\n",
       "      <td>SEK</td>\n",
       "      <td>3595</td>\n",
       "      <td>https://www.ikea.com/se/en/p/hammaroen-pergola...</td>\n",
       "      <td>https://www.ikea.com/se/en/images/products/ham...</td>\n",
       "    </tr>\n",
       "    <tr>\n",
       "      <th>2</th>\n",
       "      <td>50468854</td>\n",
       "      <td>HIMMELSÖ</td>\n",
       "      <td>Gazebo, 300x300 cm</td>\n",
       "      <td>SEK</td>\n",
       "      <td>2795</td>\n",
       "      <td>https://www.ikea.com/se/en/p/himmelsoe-gazebo-...</td>\n",
       "      <td>https://www.ikea.com/se/en/images/products/him...</td>\n",
       "    </tr>\n",
       "    <tr>\n",
       "      <th>3</th>\n",
       "      <td>s19414123</td>\n",
       "      <td>HIMMELSÖ</td>\n",
       "      <td>Gazebo with curtains and net</td>\n",
       "      <td>SEK</td>\n",
       "      <td>3895</td>\n",
       "      <td>https://www.ikea.com/se/en/p/himmelsoe-gazebo-...</td>\n",
       "      <td>https://www.ikea.com/se/en/images/products/him...</td>\n",
       "    </tr>\n",
       "    <tr>\n",
       "      <th>4</th>\n",
       "      <td>20345633</td>\n",
       "      <td>KOLBJÖRN</td>\n",
       "      <td>Cabinet in/outdoor, 90x161 cm</td>\n",
       "      <td>SEK</td>\n",
       "      <td>1395</td>\n",
       "      <td>https://www.ikea.com/se/en/p/kolbjoern-cabinet...</td>\n",
       "      <td>https://www.ikea.com/se/en/images/products/kol...</td>\n",
       "    </tr>\n",
       "  </tbody>\n",
       "</table>\n",
       "</div>"
      ],
      "text/plain": [
       "  product_id product_title            product_description currency  \\\n",
       "0   20468855        GUNNÖN             Gazebo, 238x233 cm      SEK   \n",
       "1   20549239      HAMMARÖN            Pergola, 300x300 cm      SEK   \n",
       "2   50468854      HIMMELSÖ             Gazebo, 300x300 cm      SEK   \n",
       "3  s19414123      HIMMELSÖ   Gazebo with curtains and net      SEK   \n",
       "4   20345633      KOLBJÖRN  Cabinet in/outdoor, 90x161 cm      SEK   \n",
       "\n",
       "  product_price                                       product_link  \\\n",
       "0           995  https://www.ikea.com/se/en/p/gunnoen-gazebo-da...   \n",
       "1          3595  https://www.ikea.com/se/en/p/hammaroen-pergola...   \n",
       "2          2795  https://www.ikea.com/se/en/p/himmelsoe-gazebo-...   \n",
       "3          3895  https://www.ikea.com/se/en/p/himmelsoe-gazebo-...   \n",
       "4          1395  https://www.ikea.com/se/en/p/kolbjoern-cabinet...   \n",
       "\n",
       "                                          image_link  \n",
       "0  https://www.ikea.com/se/en/images/products/gun...  \n",
       "1  https://www.ikea.com/se/en/images/products/ham...  \n",
       "2  https://www.ikea.com/se/en/images/products/him...  \n",
       "3  https://www.ikea.com/se/en/images/products/him...  \n",
       "4  https://www.ikea.com/se/en/images/products/kol...  "
      ]
     },
     "execution_count": 26,
     "metadata": {},
     "output_type": "execute_result"
    }
   ],
   "source": [
    "products.head()"
   ]
  },
  {
   "cell_type": "markdown",
   "metadata": {},
   "source": [
    "I will now continue with my data inspection and some cleaning."
   ]
  },
  {
   "cell_type": "code",
   "execution_count": 27,
   "metadata": {},
   "outputs": [
    {
     "name": "stdout",
     "output_type": "stream",
     "text": [
      "<class 'pandas.core.frame.DataFrame'>\n",
      "RangeIndex: 22 entries, 0 to 21\n",
      "Data columns (total 7 columns):\n",
      " #   Column               Non-Null Count  Dtype \n",
      "---  ------               --------------  ----- \n",
      " 0   product_id           22 non-null     object\n",
      " 1   product_title        22 non-null     object\n",
      " 2   product_description  22 non-null     object\n",
      " 3   currency             22 non-null     object\n",
      " 4   product_price        22 non-null     object\n",
      " 5   product_link         22 non-null     object\n",
      " 6   image_link           22 non-null     object\n",
      "dtypes: object(7)\n",
      "memory usage: 1.3+ KB\n"
     ]
    }
   ],
   "source": [
    "products.info()"
   ]
  },
  {
   "cell_type": "code",
   "execution_count": 28,
   "metadata": {},
   "outputs": [
    {
     "name": "stdout",
     "output_type": "stream",
     "text": [
      "<class 'pandas.core.frame.DataFrame'>\n",
      "RangeIndex: 22 entries, 0 to 21\n",
      "Data columns (total 7 columns):\n",
      " #   Column               Non-Null Count  Dtype  \n",
      "---  ------               --------------  -----  \n",
      " 0   product_id           22 non-null     int32  \n",
      " 1   product_title        22 non-null     object \n",
      " 2   product_description  22 non-null     object \n",
      " 3   currency             22 non-null     object \n",
      " 4   product_price        22 non-null     float64\n",
      " 5   product_link         22 non-null     object \n",
      " 6   image_link           22 non-null     object \n",
      "dtypes: float64(1), int32(1), object(5)\n",
      "memory usage: 1.2+ KB\n"
     ]
    }
   ],
   "source": [
    "# no NaNs, great! However, we need to change a few data types\n",
    "products[\"product_id\"] = products[\"product_id\"].str.replace(\"s\", \"\") # I noticed a typo in product_id too\n",
    "products[\"product_id\"] = products[\"product_id\"].astype(\"int\")\n",
    "products[\"product_price\"] = products[\"product_price\"].astype(\"float\")\n",
    "products.info()"
   ]
  },
  {
   "cell_type": "markdown",
   "metadata": {},
   "source": [
    "Now the dataframe is ready to be analysed. "
   ]
  }
 ],
 "metadata": {
  "kernelspec": {
   "display_name": "base",
   "language": "python",
   "name": "python3"
  },
  "language_info": {
   "codemirror_mode": {
    "name": "ipython",
    "version": 3
   },
   "file_extension": ".py",
   "mimetype": "text/x-python",
   "name": "python",
   "nbconvert_exporter": "python",
   "pygments_lexer": "ipython3",
   "version": "3.11.7"
  }
 },
 "nbformat": 4,
 "nbformat_minor": 2
}
